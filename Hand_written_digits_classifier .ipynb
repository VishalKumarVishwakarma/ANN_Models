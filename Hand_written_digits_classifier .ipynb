{
 "cells": [
  {
   "cell_type": "markdown",
   "id": "69dd3de7",
   "metadata": {},
   "source": [
    "# Nueral network classifier  for Hand written images"
   ]
  },
  {
   "cell_type": "code",
   "execution_count": 6,
   "id": "23d3785d",
   "metadata": {},
   "outputs": [],
   "source": [
    "# important Libraries\n",
    "import numpy as np\n",
    "import matplotlib.pyplot as plt\n",
    "import seaborn as sns\n",
    "import tensorflow as tf\n",
    "import pandas as pd\n",
    "from tensorflow import keras"
   ]
  },
  {
   "cell_type": "code",
   "execution_count": 7,
   "id": "0b40ecff",
   "metadata": {},
   "outputs": [],
   "source": [
    "# Loading sign image data from tensor flow\n",
    "(X_train, y_train),(X_test, y_test) = keras.datasets.mnist.load_data()"
   ]
  },
  {
   "cell_type": "markdown",
   "id": "b3f14150",
   "metadata": {},
   "source": [
    "### Dimentions_of_data"
   ]
  },
  {
   "cell_type": "code",
   "execution_count": 8,
   "id": "fca6855d",
   "metadata": {},
   "outputs": [
    {
     "name": "stdout",
     "output_type": "stream",
     "text": [
      "Shape of the X_train is :(60000, 28, 28)\n",
      "Shape of the X_test is :(10000, 28, 28)\n",
      "Shape of the y_train is :(60000,)\n",
      "Shape of the y_test is :(10000,)\n"
     ]
    }
   ],
   "source": [
    "print(f'Shape of the X_train is :{X_train.shape}')\n",
    "print(f'Shape of the X_test is :{X_test.shape}')\n",
    "print(f'Shape of the y_train is :{y_train.shape}')\n",
    "print(f'Shape of the y_test is :{y_test.shape}')"
   ]
  },
  {
   "cell_type": "markdown",
   "id": "5c4961a3",
   "metadata": {},
   "source": [
    "### How image looks like"
   ]
  },
  {
   "cell_type": "code",
   "execution_count": 9,
   "id": "a789aa31",
   "metadata": {},
   "outputs": [
    {
     "name": "stdout",
     "output_type": "stream",
     "text": [
      "Label is 5\n"
     ]
    },
    {
     "data": {
      "image/png": "[encoded data removed]",
      "text/plain": [
       "<Figure size 432x288 with 1 Axes>"
      ]
     },
     "metadata": {
      "needs_background": "light"
     },
     "output_type": "display_data"
    }
   ],
   "source": [
    "print(f'Label is {y_train[0]}')\n",
    "plt.imshow(X_train[0])\n",
    "plt.show()"
   ]
  },
  {
   "cell_type": "markdown",
   "id": "c2336ff6",
   "metadata": {},
   "source": [
    "### How arrays Looks like"
   ]
  },
  {
   "cell_type": "code",
   "execution_count": 10,
   "id": "18febd34",
   "metadata": {},
   "outputs": [
    {
     "data": {
      "text/plain": [
       "array([[[0, 0, 0, ..., 0, 0, 0],\n",
       "        [0, 0, 0, ..., 0, 0, 0],\n",
       "        [0, 0, 0, ..., 0, 0, 0],\n",
       "        ...,\n",
       "        [0, 0, 0, ..., 0, 0, 0],\n",
       "        [0, 0, 0, ..., 0, 0, 0],\n",
       "        [0, 0, 0, ..., 0, 0, 0]],\n",
       "\n",
       "       [[0, 0, 0, ..., 0, 0, 0],\n",
       "        [0, 0, 0, ..., 0, 0, 0],\n",
       "        [0, 0, 0, ..., 0, 0, 0],\n",
       "        ...,\n",
       "        [0, 0, 0, ..., 0, 0, 0],\n",
       "        [0, 0, 0, ..., 0, 0, 0],\n",
       "        [0, 0, 0, ..., 0, 0, 0]],\n",
       "\n",
       "       [[0, 0, 0, ..., 0, 0, 0],\n",
       "        [0, 0, 0, ..., 0, 0, 0],\n",
       "        [0, 0, 0, ..., 0, 0, 0],\n",
       "        ...,\n",
       "        [0, 0, 0, ..., 0, 0, 0],\n",
       "        [0, 0, 0, ..., 0, 0, 0],\n",
       "        [0, 0, 0, ..., 0, 0, 0]],\n",
       "\n",
       "       ...,\n",
       "\n",
       "       [[0, 0, 0, ..., 0, 0, 0],\n",
       "        [0, 0, 0, ..., 0, 0, 0],\n",
       "        [0, 0, 0, ..., 0, 0, 0],\n",
       "        ...,\n",
       "        [0, 0, 0, ..., 0, 0, 0],\n",
       "        [0, 0, 0, ..., 0, 0, 0],\n",
       "        [0, 0, 0, ..., 0, 0, 0]],\n",
       "\n",
       "       [[0, 0, 0, ..., 0, 0, 0],\n",
       "        [0, 0, 0, ..., 0, 0, 0],\n",
       "        [0, 0, 0, ..., 0, 0, 0],\n",
       "        ...,\n",
       "        [0, 0, 0, ..., 0, 0, 0],\n",
       "        [0, 0, 0, ..., 0, 0, 0],\n",
       "        [0, 0, 0, ..., 0, 0, 0]],\n",
       "\n",
       "       [[0, 0, 0, ..., 0, 0, 0],\n",
       "        [0, 0, 0, ..., 0, 0, 0],\n",
       "        [0, 0, 0, ..., 0, 0, 0],\n",
       "        ...,\n",
       "        [0, 0, 0, ..., 0, 0, 0],\n",
       "        [0, 0, 0, ..., 0, 0, 0],\n",
       "        [0, 0, 0, ..., 0, 0, 0]]], dtype=uint8)"
      ]
     },
     "execution_count": 10,
     "metadata": {},
     "output_type": "execute_result"
    }
   ],
   "source": [
    "X_train"
   ]
  },
  {
   "cell_type": "markdown",
   "id": "10c575d6",
   "metadata": {},
   "source": [
    "### Flattening Datasets"
   ]
  },
  {
   "cell_type": "code",
   "execution_count": 11,
   "id": "11ed90c8",
   "metadata": {},
   "outputs": [],
   "source": [
    "X_train_flattened = X_train.reshape((len(X_train),28*28))\n",
    "X_test_flattened = X_test.reshape((len(X_test),28*28))"
   ]
  },
  {
   "cell_type": "code",
   "execution_count": 12,
   "id": "7f040b78",
   "metadata": {},
   "outputs": [
    {
     "name": "stdout",
     "output_type": "stream",
     "text": [
      "shape of X_train_flattened is : (60000, 784)\n",
      "shape of X_test_flattened is : (10000, 784)\n"
     ]
    }
   ],
   "source": [
    "print(f'shape of X_train_flattened is : {X_train_flattened.shape}')\n",
    "print(f'shape of X_test_flattened is : {X_test_flattened.shape}')"
   ]
  },
  {
   "cell_type": "code",
   "execution_count": 17,
   "id": "90fd583e",
   "metadata": {},
   "outputs": [
    {
     "name": "stdout",
     "output_type": "stream",
     "text": [
      "Label is : 5\n"
     ]
    },
    {
     "data": {
      "text/plain": [
       "<matplotlib.image.AxesImage at 0x25c4b8b2d60>"
      ]
     },
     "execution_count": 17,
     "metadata": {},
     "output_type": "execute_result"
    },
    {
     "data": {
      "image/png": "[encoded data removed]",
      "text/plain": [
       "<Figure size 432x288 with 1 Axes>"
      ]
     },
     "metadata": {
      "needs_background": "light"
     },
     "output_type": "display_data"
    }
   ],
   "source": [
    "print(f'Label is : {y_train[0]}')\n",
    "plt.imshow(X_train_flattened[0,:].reshape(28,28))"
   ]
  },
  {
   "cell_type": "code",
   "execution_count": 37,
   "id": "99ffc6d5",
   "metadata": {},
   "outputs": [
    {
     "name": "stdout",
     "output_type": "stream",
     "text": [
      "shape of y_train is : (60000, 10)\n",
      "shape of y_test is : (10000, 10)\n"
     ]
    }
   ],
   "source": [
    "y_train_flattened = pd.get_dummies(y_train)\n",
    "y_test_flattened = pd.get_dummies(y_test)\n",
    "print(f'shape of y_train is : {y_train_flattened.shape}')\n",
    "print(f'shape of y_test is : {y_test_flattened.shape}')\n",
    "y_train_flattened = np.array(y_train_flattened)\n",
    "y_tets_flattened = np.array(y_test_flattened)\n"
   ]
  },
  {
   "cell_type": "markdown",
   "id": "57fe01ec",
   "metadata": {},
   "source": [
    "### Normalizing Dataset"
   ]
  },
  {
   "cell_type": "code",
   "execution_count": 49,
   "id": "c9e35546",
   "metadata": {},
   "outputs": [],
   "source": [
    "X_train_flattened = X_train_flattened/255\n",
    "X_test_flattened = X_test_flattened/255"
   ]
  },
  {
   "cell_type": "markdown",
   "id": "5d8e6793",
   "metadata": {},
   "source": [
    "### Creating Model : Dense Model"
   ]
  },
  {
   "cell_type": "code",
   "execution_count": 50,
   "id": "b00ed07f",
   "metadata": {},
   "outputs": [],
   "source": [
    "from keras import models\n",
    "from keras.layers import Dense, Dropout\n",
    "\n",
    "model = models.Sequential()\n",
    "model.add(Dense(512, input_shape = (28*28,), activation = 'relu'))\n",
    "model.add(Dropout(0.7))\n",
    "model.add(Dense(256, activation = 'relu'))\n",
    "model.add(Dropout(0.6))\n",
    "model.add(Dense(10,activation = 'softmax'))"
   ]
  },
  {
   "cell_type": "markdown",
   "id": "85f40a0b",
   "metadata": {},
   "source": [
    "### compile Model "
   ]
  },
  {
   "cell_type": "code",
   "execution_count": 51,
   "id": "e1bfb9a2",
   "metadata": {},
   "outputs": [],
   "source": [
    "model.compile(\n",
    "    optimizer = 'adam',\n",
    "    loss = 'categorical_crossentropy',\n",
    "    metrics = ['accuracy']\n",
    ")"
   ]
  },
  {
   "cell_type": "markdown",
   "id": "eb8979a0",
   "metadata": {},
   "source": [
    "### Training Model"
   ]
  },
  {
   "cell_type": "code",
   "execution_count": 54,
   "id": "e339db3d",
   "metadata": {},
   "outputs": [
    {
     "name": "stdout",
     "output_type": "stream",
     "text": [
      "Epoch 1/16\n",
      "59/59 [==============================] - 2s 38ms/step - loss: 0.4118 - accuracy: 0.8763\n",
      "Epoch 2/16\n",
      "59/59 [==============================] - 2s 38ms/step - loss: 0.3873 - accuracy: 0.8855\n",
      "Epoch 3/16\n",
      "59/59 [==============================] - 2s 37ms/step - loss: 0.3713 - accuracy: 0.8914\n",
      "Epoch 4/16\n",
      "59/59 [==============================] - 2s 39ms/step - loss: 0.3531 - accuracy: 0.8963\n",
      "Epoch 5/16\n",
      "59/59 [==============================] - 2s 38ms/step - loss: 0.3396 - accuracy: 0.8999\n",
      "Epoch 6/16\n",
      "59/59 [==============================] - 2s 38ms/step - loss: 0.3297 - accuracy: 0.9025\n",
      "Epoch 7/16\n",
      "59/59 [==============================] - 2s 38ms/step - loss: 0.3139 - accuracy: 0.9087\n",
      "Epoch 8/16\n",
      "59/59 [==============================] - 2s 38ms/step - loss: 0.3041 - accuracy: 0.9108\n",
      "Epoch 9/16\n",
      "59/59 [==============================] - 2s 40ms/step - loss: 0.2936 - accuracy: 0.9151\n",
      "Epoch 10/16\n",
      "59/59 [==============================] - 2s 38ms/step - loss: 0.2845 - accuracy: 0.9174\n",
      "Epoch 11/16\n",
      "59/59 [==============================] - 2s 38ms/step - loss: 0.2729 - accuracy: 0.9213\n",
      "Epoch 12/16\n",
      "59/59 [==============================] - 2s 38ms/step - loss: 0.2676 - accuracy: 0.9215\n",
      "Epoch 13/16\n",
      "59/59 [==============================] - 2s 39ms/step - loss: 0.2601 - accuracy: 0.9252\n",
      "Epoch 14/16\n",
      "59/59 [==============================] - 2s 38ms/step - loss: 0.2526 - accuracy: 0.9274\n",
      "Epoch 15/16\n",
      "59/59 [==============================] - 2s 39ms/step - loss: 0.2447 - accuracy: 0.9289\n",
      "Epoch 16/16\n",
      "59/59 [==============================] - 2s 38ms/step - loss: 0.2395 - accuracy: 0.9299\n"
     ]
    },
    {
     "data": {
      "text/plain": [
       "<keras.callbacks.History at 0x25c4cdfed30>"
      ]
     },
     "execution_count": 54,
     "metadata": {},
     "output_type": "execute_result"
    }
   ],
   "source": [
    "model.fit(X_train_flattened,y_train_flattened,\n",
    "          epochs = 16,\n",
    "         batch_size = 1024)"
   ]
  },
  {
   "cell_type": "markdown",
   "id": "44a4afa3",
   "metadata": {},
   "source": [
    "## Model Summery"
   ]
  },
  {
   "cell_type": "code",
   "execution_count": 58,
   "id": "c3cc3f72",
   "metadata": {},
   "outputs": [
    {
     "name": "stdout",
     "output_type": "stream",
     "text": [
      "Model: \"sequential_8\"\n",
      "_________________________________________________________________\n",
      " Layer (type)                Output Shape              Param #   \n",
      "=================================================================\n",
      " dense_7 (Dense)             (None, 512)               401920    \n",
      "                                                                 \n",
      " dropout_2 (Dropout)         (None, 512)               0         \n",
      "                                                                 \n",
      " dense_8 (Dense)             (None, 256)               131328    \n",
      "                                                                 \n",
      " dropout_3 (Dropout)         (None, 256)               0         \n",
      "                                                                 \n",
      " dense_9 (Dense)             (None, 10)                2570      \n",
      "                                                                 \n",
      "=================================================================\n",
      "Total params: 535,818\n",
      "Trainable params: 535,818\n",
      "Non-trainable params: 0\n",
      "_________________________________________________________________\n"
     ]
    }
   ],
   "source": [
    "model.summary()"
   ]
  },
  {
   "cell_type": "markdown",
   "id": "099eb4ca",
   "metadata": {},
   "source": [
    "### Model Visualize"
   ]
  },
  {
   "cell_type": "code",
   "execution_count": 59,
   "id": "55f5492f",
   "metadata": {},
   "outputs": [
    {
     "data": {
      "image/png": "[encoded data removed]",
      "text/plain": [
       "<PIL.Image.Image image mode=RGBA size=241x27 at 0x25C4B982AF0>"
      ]
     },
     "execution_count": 59,
     "metadata": {},
     "output_type": "execute_result"
    }
   ],
   "source": [
    "import visualkeras\n",
    "visualkeras.layered_view(model)"
   ]
  },
  {
   "cell_type": "markdown",
   "id": "56db1c1f",
   "metadata": {},
   "source": [
    "### Model Evaluation"
   ]
  },
  {
   "cell_type": "code",
   "execution_count": 62,
   "id": "2d789a64",
   "metadata": {},
   "outputs": [
    {
     "name": "stdout",
     "output_type": "stream",
     "text": [
      "313/313 [==============================] - 1s 2ms/step - loss: 0.1694 - accuracy: 0.9476\n",
      "Test Loss is : 0.1694047898054123\n",
      "Test Accuracy is : 0.9476000070571899\n"
     ]
    }
   ],
   "source": [
    "score = model.evaluate(X_test_flattened, y_test_flattened)\n",
    "print(f'Test Loss is : {score[0]}')\n",
    "print(f'Test Accuracy is : {score[1]}')"
   ]
  },
  {
   "cell_type": "code",
   "execution_count": null,
   "id": "042ea6a7",
   "metadata": {},
   "outputs": [],
   "source": []
  }
 ],
 "metadata": {
  "kernelspec": {
   "display_name": "Python 3 (ipykernel)",
   "language": "python",
   "name": "python3"
  },
  "language_info": {
   "codemirror_mode": {
    "name": "ipython",
    "version": 3
   },
   "file_extension": ".py",
   "mimetype": "text/x-python",
   "name": "python",
   "nbconvert_exporter": "python",
   "pygments_lexer": "ipython3",
   "version": "3.9.7"
  }
 },
 "nbformat": 4,
 "nbformat_minor": 5
}
